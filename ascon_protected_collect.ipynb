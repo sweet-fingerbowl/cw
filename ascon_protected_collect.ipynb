{
 "cells": [
  {
   "attachments": {},
   "cell_type": "markdown",
   "metadata": {},
   "source": [
    "# Trace collection of SCA-Protected Implementation of Ascon128"
   ]
  },
  {
   "attachments": {},
   "cell_type": "markdown",
   "metadata": {},
   "source": [
    "## Setup Target Board"
   ]
  },
  {
   "cell_type": "code",
   "execution_count": 1,
   "metadata": {},
   "outputs": [],
   "source": [
    "PLATFORM = 'CW308_STM32F3'\n",
    "CRYPTO_TARGET = 'NONE'\n",
    "SS_VER = 'SS_VER_1_1'\n",
    "\n",
    "BAUD_RATE = 38400"
   ]
  },
  {
   "attachments": {},
   "cell_type": "markdown",
   "metadata": {},
   "source": [
    "## Detect Chipwhisperer Board"
   ]
  },
  {
   "cell_type": "code",
   "execution_count": null,
   "metadata": {},
   "outputs": [],
   "source": [
    "import time\n",
    "import chipwhisperer as cw\n",
    "\n",
    "scope = cw.scope()\n",
    "\n",
    "target_type = cw.targets.SimpleSerial\n",
    "try:\n",
    "    target = cw.target(scope, target_type)\n",
    "except:\n",
    "    print(\"INFO: Caught exception on reconnecting to target - attempting to reconnect to scope first.\")\n",
    "    print(\"INFO: This is a work-around when USB has died without Python knowing. Ignore errors above this line.\")\n",
    "    scope = cw.scope()\n",
    "    target = cw.target(scope, target_type)\n",
    "\n",
    "print(\"INFO: Found ChipWhisperer😍\")\n",
    "\n",
    "prog = cw.programmers.STM32FProgrammer\n",
    "\n",
    "time.sleep(0.05)\n",
    "scope.default_setup()\n",
    "def reset_target(scope):\n",
    "    scope.io.nrst = 'low'\n",
    "    time.sleep(0.05)\n",
    "    scope.io.nrst = 'high_z'\n",
    "    time.sleep(0.05)\n"
   ]
  },
  {
   "attachments": {},
   "cell_type": "markdown",
   "metadata": {},
   "source": [
    "### Setup Target Algorithm"
   ]
  },
  {
   "cell_type": "code",
   "execution_count": 2,
   "metadata": {},
   "outputs": [],
   "source": [
    "CRYPTO_PATH = 'crypto_aead/ascon128v12/protected_bi32_armv6'\n",
    "DATA_LEN = 190\n",
    "RESP_LEN = 96\n",
    "n_shares = 2\n",
    "SS_SHARED = 1\n",
    "NUM_SHARES_KEY = n_shares\n",
    "NUM_SHARES_NPUB = n_shares\n",
    "NUM_SHARES_AD = n_shares\n",
    "NUM_SHARES_M = n_shares\n",
    "NUM_SHARES_C = n_shares\n",
    "ASCON_ROR_SHARES = 5\n",
    "ASCON_EXTERN_BI = 0\n",
    "ASCON_PA_ROUNDS = 12\n",
    "ASCON_PB_ROUNDS = 6"
   ]
  },
  {
   "cell_type": "code",
   "execution_count": 3,
   "metadata": {},
   "outputs": [],
   "source": [
    "EXTRA_OPTS = ' -DNUM_SHARES_KEY=' + str(NUM_SHARES_KEY)\n",
    "EXTRA_OPTS += ' -DNUM_SHARES_NPUB=' + str(NUM_SHARES_NPUB)\n",
    "EXTRA_OPTS += ' -DNUM_SHARES_AD=' + str(NUM_SHARES_AD)\n",
    "EXTRA_OPTS += ' -DNUM_SHARES_M=' + str(NUM_SHARES_M)\n",
    "EXTRA_OPTS += ' -DNUM_SHARES_C=' + str(NUM_SHARES_C)\n",
    "EXTRA_OPTS += ' -DASCON_ROR_SHARES=' + str(ASCON_ROR_SHARES)\n",
    "EXTRA_OPTS += ' -DASCON_EXTERN_BI=' + str(ASCON_EXTERN_BI)\n",
    "EXTRA_OPTS += ' -DASCON_PA_ROUNDS=' + str(ASCON_PA_ROUNDS)\n",
    "EXTRA_OPTS += ' -DASCON_PB_ROUNDS=' + str(ASCON_PB_ROUNDS)\n",
    "EXTRA_OPTS += ' -DSS_SHARED=' + str(SS_SHARED)\n",
    "EXTRA_OPTS += ' -DDATA_LEN=' + str(DATA_LEN)\n",
    "EXTRA_OPTS += ' -DRESP_LEN=' + str(RESP_LEN)"
   ]
  },
  {
   "attachments": {},
   "cell_type": "markdown",
   "metadata": {},
   "source": [
    "## Compile"
   ]
  },
  {
   "cell_type": "code",
   "execution_count": null,
   "metadata": {},
   "outputs": [],
   "source": []
  },
  {
   "cell_type": "code",
   "execution_count": 4,
   "metadata": {},
   "outputs": [
    {
     "name": "stderr",
     "output_type": "stream",
     "text": [
      "mkdir: cannot create directory ‘/home/asteroid/chipwhisperer/hardware/victims/firmware/simpleserial-ascon’: File exists\n",
      "cp: cannot stat 'simpleserial-ascon': No such file or directory\n"
     ]
    },
    {
     "name": "stdout",
     "output_type": "stream",
     "text": [
      "Building for platform CW308_STM32F3 with CRYPTO_TARGET=NONE\n",
      "SS_VER set to SS_VER_1_1\n",
      "make clean_objs .dep \n",
      "make[1]: Entering directory '/home/asteroid/chipwhisperer/hardware/victims/firmware/simpleserial-ascon'\n",
      "Building for platform CW308_STM32F3 with CRYPTO_TARGET=NONE\n",
      "SS_VER set to SS_VER_1_1\n",
      "rm -f -- simpleserial-ascon-CW308_STM32F3.hex\n",
      "rm -f -- simpleserial-ascon-CW308_STM32F3.eep\n",
      "rm -f -- simpleserial-ascon-CW308_STM32F3.cof\n",
      "rm -f -- simpleserial-ascon-CW308_STM32F3.elf\n",
      "rm -f -- simpleserial-ascon-CW308_STM32F3.map\n",
      "rm -f -- simpleserial-ascon-CW308_STM32F3.sym\n",
      "rm -f -- simpleserial-ascon-CW308_STM32F3.lss\n",
      "rm -f -- objdir-CW308_STM32F3/*.o\n",
      "rm -f -- objdir-CW308_STM32F3/*.lst\n",
      "rm -f -- simpleserial-ascon.s randombytes.s Implementations/crypto_aead/ascon128v12/protected_bi32_armv6/aead.s Implementations/crypto_aead/ascon128v12/protected_bi32_armv6/constants.s Implementations/crypto_aead/ascon128v12/protected_bi32_armv6/crypto_aead.s Implementations/crypto_aead/ascon128v12/protected_bi32_armv6/crypto_aead_shared.s Implementations/crypto_aead/ascon128v12/protected_bi32_armv6/interleave.s Implementations/crypto_aead/ascon128v12/protected_bi32_armv6/permutations.s Implementations/crypto_aead/ascon128v12/protected_bi32_armv6/printstate.s Implementations/crypto_aead/ascon128v12/protected_bi32_armv6/shares.s simpleserial.s stm32f3_hal.s stm32f3_hal_lowlevel.s stm32f3_sysmem.s\n",
      "rm -f -- simpleserial-ascon.d randombytes.d Implementations/crypto_aead/ascon128v12/protected_bi32_armv6/aead.d Implementations/crypto_aead/ascon128v12/protected_bi32_armv6/constants.d Implementations/crypto_aead/ascon128v12/protected_bi32_armv6/crypto_aead.d Implementations/crypto_aead/ascon128v12/protected_bi32_armv6/crypto_aead_shared.d Implementations/crypto_aead/ascon128v12/protected_bi32_armv6/interleave.d Implementations/crypto_aead/ascon128v12/protected_bi32_armv6/permutations.d Implementations/crypto_aead/ascon128v12/protected_bi32_armv6/printstate.d Implementations/crypto_aead/ascon128v12/protected_bi32_armv6/shares.d simpleserial.d stm32f3_hal.d stm32f3_hal_lowlevel.d stm32f3_sysmem.d\n",
      "rm -f -- simpleserial-ascon.i randombytes.i Implementations/crypto_aead/ascon128v12/protected_bi32_armv6/aead.i Implementations/crypto_aead/ascon128v12/protected_bi32_armv6/constants.i Implementations/crypto_aead/ascon128v12/protected_bi32_armv6/crypto_aead.i Implementations/crypto_aead/ascon128v12/protected_bi32_armv6/crypto_aead_shared.i Implementations/crypto_aead/ascon128v12/protected_bi32_armv6/interleave.i Implementations/crypto_aead/ascon128v12/protected_bi32_armv6/permutations.i Implementations/crypto_aead/ascon128v12/protected_bi32_armv6/printstate.i Implementations/crypto_aead/ascon128v12/protected_bi32_armv6/shares.i simpleserial.i stm32f3_hal.i stm32f3_hal_lowlevel.i stm32f3_sysmem.i\n",
      "mkdir -p .dep\n",
      "make[1]: Leaving directory '/home/asteroid/chipwhisperer/hardware/victims/firmware/simpleserial-ascon'\n",
      "make begin gccversion build sizeafter fastnote end\n",
      "make[1]: Entering directory '/home/asteroid/chipwhisperer/hardware/victims/firmware/simpleserial-ascon'\n",
      "Building for platform CW308_STM32F3 with CRYPTO_TARGET=NONE\n",
      "SS_VER set to SS_VER_1_1\n",
      ".\n",
      "Welcome to another exciting ChipWhisperer target build!!\n",
      "arm-none-eabi-gcc (15:10.3-2021.07-4) 10.3.1 20210621 (release)\n",
      "Copyright (C) 2020 Free Software Foundation, Inc.\n",
      "This is free software; see the source for copying conditions.  There is NO\n",
      "warranty; not even for MERCHANTABILITY or FITNESS FOR A PARTICULAR PURPOSE.\n",
      "\n",
      ".\n",
      "Compiling C: simpleserial-ascon.c\n",
      "arm-none-eabi-gcc -c -mcpu=cortex-m4 -I. -DNUM_SHARES_KEY=2 -DNUM_SHARES_NPUB=2 -DNUM_SHARES_AD=2 -DNUM_SHARES_M=2 -DNUM_SHARES_C=2 -DASCON_ROR_SHARES=5 -DASCON_EXTERN_BI=0 -DASCON_PA_ROUNDS=12 -DASCON_PB_ROUNDS=6 -DSS_SHARED=1 -DDATA_LEN=190 -DRESP_LEN=96 -mthumb -mfloat-abi=soft -fmessage-length=0 -ffunction-sections -gdwarf-2 -DSS_VER=SS_VER_1_1 -DSTM32F303xC -DSTM32F3 -DSTM32 -DDEBUG -DHAL_TYPE=HAL_stm32f3 -DPLATFORM=CW308_STM32F3 -DF_CPU=7372800UL -DSS_VER_2_0=2 -DSS_VER_2_1=3 -DSS_VER_1_1=1 -DSS_VER_1_0=0 -Os -funsigned-char -funsigned-bitfields -fshort-enums -Wall -Wstrict-prototypes -Wa,-adhlns=objdir-CW308_STM32F3/simpleserial-ascon.lst -IImplementations/crypto_aead/ascon128v12/protected_bi32_armv6 -I.././simpleserial/ -I.././hal -I.././hal/stm32f3 -I.././hal/stm32f3/CMSIS -I.././hal/stm32f3/CMSIS/core -I.././hal/stm32f3/CMSIS/device -I.././hal/stm32f4/Legacy -I.././crypto/ -std=gnu99  -MMD -MP -MF .dep/simpleserial-ascon.o.d simpleserial-ascon.c -o objdir-CW308_STM32F3/simpleserial-ascon.o\n",
      ".\n",
      "Compiling C: randombytes.c\n",
      "arm-none-eabi-gcc -c -mcpu=cortex-m4 -I. -DNUM_SHARES_KEY=2 -DNUM_SHARES_NPUB=2 -DNUM_SHARES_AD=2 -DNUM_SHARES_M=2 -DNUM_SHARES_C=2 -DASCON_ROR_SHARES=5 -DASCON_EXTERN_BI=0 -DASCON_PA_ROUNDS=12 -DASCON_PB_ROUNDS=6 -DSS_SHARED=1 -DDATA_LEN=190 -DRESP_LEN=96 -mthumb -mfloat-abi=soft -fmessage-length=0 -ffunction-sections -gdwarf-2 -DSS_VER=SS_VER_1_1 -DSTM32F303xC -DSTM32F3 -DSTM32 -DDEBUG -DHAL_TYPE=HAL_stm32f3 -DPLATFORM=CW308_STM32F3 -DF_CPU=7372800UL -DSS_VER_2_0=2 -DSS_VER_2_1=3 -DSS_VER_1_1=1 -DSS_VER_1_0=0 -Os -funsigned-char -funsigned-bitfields -fshort-enums -Wall -Wstrict-prototypes -Wa,-adhlns=objdir-CW308_STM32F3/randombytes.lst -IImplementations/crypto_aead/ascon128v12/protected_bi32_armv6 -I.././simpleserial/ -I.././hal -I.././hal/stm32f3 -I.././hal/stm32f3/CMSIS -I.././hal/stm32f3/CMSIS/core -I.././hal/stm32f3/CMSIS/device -I.././hal/stm32f4/Legacy -I.././crypto/ -std=gnu99  -MMD -MP -MF .dep/randombytes.o.d randombytes.c -o objdir-CW308_STM32F3/randombytes.o\n",
      ".\n",
      "Compiling C: Implementations/crypto_aead/ascon128v12/protected_bi32_armv6/aead.c\n",
      "arm-none-eabi-gcc -c -mcpu=cortex-m4 -I. -DNUM_SHARES_KEY=2 -DNUM_SHARES_NPUB=2 -DNUM_SHARES_AD=2 -DNUM_SHARES_M=2 -DNUM_SHARES_C=2 -DASCON_ROR_SHARES=5 -DASCON_EXTERN_BI=0 -DASCON_PA_ROUNDS=12 -DASCON_PB_ROUNDS=6 -DSS_SHARED=1 -DDATA_LEN=190 -DRESP_LEN=96 -mthumb -mfloat-abi=soft -fmessage-length=0 -ffunction-sections -gdwarf-2 -DSS_VER=SS_VER_1_1 -DSTM32F303xC -DSTM32F3 -DSTM32 -DDEBUG -DHAL_TYPE=HAL_stm32f3 -DPLATFORM=CW308_STM32F3 -DF_CPU=7372800UL -DSS_VER_2_0=2 -DSS_VER_2_1=3 -DSS_VER_1_1=1 -DSS_VER_1_0=0 -Os -funsigned-char -funsigned-bitfields -fshort-enums -Wall -Wstrict-prototypes -Wa,-adhlns=objdir-CW308_STM32F3/aead.lst -IImplementations/crypto_aead/ascon128v12/protected_bi32_armv6 -I.././simpleserial/ -I.././hal -I.././hal/stm32f3 -I.././hal/stm32f3/CMSIS -I.././hal/stm32f3/CMSIS/core -I.././hal/stm32f3/CMSIS/device -I.././hal/stm32f4/Legacy -I.././crypto/ -std=gnu99  -MMD -MP -MF .dep/aead.o.d Implementations/crypto_aead/ascon128v12/protected_bi32_armv6/aead.c -o objdir-CW308_STM32F3/Implementations/crypto_aead/ascon128v12/protected_bi32_armv6/aead.o\n",
      ".\n",
      "Compiling C: Implementations/crypto_aead/ascon128v12/protected_bi32_armv6/constants.c\n",
      "arm-none-eabi-gcc -c -mcpu=cortex-m4 -I. -DNUM_SHARES_KEY=2 -DNUM_SHARES_NPUB=2 -DNUM_SHARES_AD=2 -DNUM_SHARES_M=2 -DNUM_SHARES_C=2 -DASCON_ROR_SHARES=5 -DASCON_EXTERN_BI=0 -DASCON_PA_ROUNDS=12 -DASCON_PB_ROUNDS=6 -DSS_SHARED=1 -DDATA_LEN=190 -DRESP_LEN=96 -mthumb -mfloat-abi=soft -fmessage-length=0 -ffunction-sections -gdwarf-2 -DSS_VER=SS_VER_1_1 -DSTM32F303xC -DSTM32F3 -DSTM32 -DDEBUG -DHAL_TYPE=HAL_stm32f3 -DPLATFORM=CW308_STM32F3 -DF_CPU=7372800UL -DSS_VER_2_0=2 -DSS_VER_2_1=3 -DSS_VER_1_1=1 -DSS_VER_1_0=0 -Os -funsigned-char -funsigned-bitfields -fshort-enums -Wall -Wstrict-prototypes -Wa,-adhlns=objdir-CW308_STM32F3/constants.lst -IImplementations/crypto_aead/ascon128v12/protected_bi32_armv6 -I.././simpleserial/ -I.././hal -I.././hal/stm32f3 -I.././hal/stm32f3/CMSIS -I.././hal/stm32f3/CMSIS/core -I.././hal/stm32f3/CMSIS/device -I.././hal/stm32f4/Legacy -I.././crypto/ -std=gnu99  -MMD -MP -MF .dep/constants.o.d Implementations/crypto_aead/ascon128v12/protected_bi32_armv6/constants.c -o objdir-CW308_STM32F3/Implementations/crypto_aead/ascon128v12/protected_bi32_armv6/constants.o\n",
      ".\n",
      "Compiling C: Implementations/crypto_aead/ascon128v12/protected_bi32_armv6/crypto_aead.c\n",
      "arm-none-eabi-gcc -c -mcpu=cortex-m4 -I. -DNUM_SHARES_KEY=2 -DNUM_SHARES_NPUB=2 -DNUM_SHARES_AD=2 -DNUM_SHARES_M=2 -DNUM_SHARES_C=2 -DASCON_ROR_SHARES=5 -DASCON_EXTERN_BI=0 -DASCON_PA_ROUNDS=12 -DASCON_PB_ROUNDS=6 -DSS_SHARED=1 -DDATA_LEN=190 -DRESP_LEN=96 -mthumb -mfloat-abi=soft -fmessage-length=0 -ffunction-sections -gdwarf-2 -DSS_VER=SS_VER_1_1 -DSTM32F303xC -DSTM32F3 -DSTM32 -DDEBUG -DHAL_TYPE=HAL_stm32f3 -DPLATFORM=CW308_STM32F3 -DF_CPU=7372800UL -DSS_VER_2_0=2 -DSS_VER_2_1=3 -DSS_VER_1_1=1 -DSS_VER_1_0=0 -Os -funsigned-char -funsigned-bitfields -fshort-enums -Wall -Wstrict-prototypes -Wa,-adhlns=objdir-CW308_STM32F3/crypto_aead.lst -IImplementations/crypto_aead/ascon128v12/protected_bi32_armv6 -I.././simpleserial/ -I.././hal -I.././hal/stm32f3 -I.././hal/stm32f3/CMSIS -I.././hal/stm32f3/CMSIS/core -I.././hal/stm32f3/CMSIS/device -I.././hal/stm32f4/Legacy -I.././crypto/ -std=gnu99  -MMD -MP -MF .dep/crypto_aead.o.d Implementations/crypto_aead/ascon128v12/protected_bi32_armv6/crypto_aead.c -o objdir-CW308_STM32F3/Implementations/crypto_aead/ascon128v12/protected_bi32_armv6/crypto_aead.o\n",
      ".\n",
      "Compiling C: Implementations/crypto_aead/ascon128v12/protected_bi32_armv6/crypto_aead_shared.c\n",
      "arm-none-eabi-gcc -c -mcpu=cortex-m4 -I. -DNUM_SHARES_KEY=2 -DNUM_SHARES_NPUB=2 -DNUM_SHARES_AD=2 -DNUM_SHARES_M=2 -DNUM_SHARES_C=2 -DASCON_ROR_SHARES=5 -DASCON_EXTERN_BI=0 -DASCON_PA_ROUNDS=12 -DASCON_PB_ROUNDS=6 -DSS_SHARED=1 -DDATA_LEN=190 -DRESP_LEN=96 -mthumb -mfloat-abi=soft -fmessage-length=0 -ffunction-sections -gdwarf-2 -DSS_VER=SS_VER_1_1 -DSTM32F303xC -DSTM32F3 -DSTM32 -DDEBUG -DHAL_TYPE=HAL_stm32f3 -DPLATFORM=CW308_STM32F3 -DF_CPU=7372800UL -DSS_VER_2_0=2 -DSS_VER_2_1=3 -DSS_VER_1_1=1 -DSS_VER_1_0=0 -Os -funsigned-char -funsigned-bitfields -fshort-enums -Wall -Wstrict-prototypes -Wa,-adhlns=objdir-CW308_STM32F3/crypto_aead_shared.lst -IImplementations/crypto_aead/ascon128v12/protected_bi32_armv6 -I.././simpleserial/ -I.././hal -I.././hal/stm32f3 -I.././hal/stm32f3/CMSIS -I.././hal/stm32f3/CMSIS/core -I.././hal/stm32f3/CMSIS/device -I.././hal/stm32f4/Legacy -I.././crypto/ -std=gnu99  -MMD -MP -MF .dep/crypto_aead_shared.o.d Implementations/crypto_aead/ascon128v12/protected_bi32_armv6/crypto_aead_shared.c -o objdir-CW308_STM32F3/Implementations/crypto_aead/ascon128v12/protected_bi32_armv6/crypto_aead_shared.o\n",
      ".\n",
      "Compiling C: Implementations/crypto_aead/ascon128v12/protected_bi32_armv6/interleave.c\n",
      "arm-none-eabi-gcc -c -mcpu=cortex-m4 -I. -DNUM_SHARES_KEY=2 -DNUM_SHARES_NPUB=2 -DNUM_SHARES_AD=2 -DNUM_SHARES_M=2 -DNUM_SHARES_C=2 -DASCON_ROR_SHARES=5 -DASCON_EXTERN_BI=0 -DASCON_PA_ROUNDS=12 -DASCON_PB_ROUNDS=6 -DSS_SHARED=1 -DDATA_LEN=190 -DRESP_LEN=96 -mthumb -mfloat-abi=soft -fmessage-length=0 -ffunction-sections -gdwarf-2 -DSS_VER=SS_VER_1_1 -DSTM32F303xC -DSTM32F3 -DSTM32 -DDEBUG -DHAL_TYPE=HAL_stm32f3 -DPLATFORM=CW308_STM32F3 -DF_CPU=7372800UL -DSS_VER_2_0=2 -DSS_VER_2_1=3 -DSS_VER_1_1=1 -DSS_VER_1_0=0 -Os -funsigned-char -funsigned-bitfields -fshort-enums -Wall -Wstrict-prototypes -Wa,-adhlns=objdir-CW308_STM32F3/interleave.lst -IImplementations/crypto_aead/ascon128v12/protected_bi32_armv6 -I.././simpleserial/ -I.././hal -I.././hal/stm32f3 -I.././hal/stm32f3/CMSIS -I.././hal/stm32f3/CMSIS/core -I.././hal/stm32f3/CMSIS/device -I.././hal/stm32f4/Legacy -I.././crypto/ -std=gnu99  -MMD -MP -MF .dep/interleave.o.d Implementations/crypto_aead/ascon128v12/protected_bi32_armv6/interleave.c -o objdir-CW308_STM32F3/Implementations/crypto_aead/ascon128v12/protected_bi32_armv6/interleave.o\n",
      ".\n",
      "Compiling C: Implementations/crypto_aead/ascon128v12/protected_bi32_armv6/permutations.c\n",
      "arm-none-eabi-gcc -c -mcpu=cortex-m4 -I. -DNUM_SHARES_KEY=2 -DNUM_SHARES_NPUB=2 -DNUM_SHARES_AD=2 -DNUM_SHARES_M=2 -DNUM_SHARES_C=2 -DASCON_ROR_SHARES=5 -DASCON_EXTERN_BI=0 -DASCON_PA_ROUNDS=12 -DASCON_PB_ROUNDS=6 -DSS_SHARED=1 -DDATA_LEN=190 -DRESP_LEN=96 -mthumb -mfloat-abi=soft -fmessage-length=0 -ffunction-sections -gdwarf-2 -DSS_VER=SS_VER_1_1 -DSTM32F303xC -DSTM32F3 -DSTM32 -DDEBUG -DHAL_TYPE=HAL_stm32f3 -DPLATFORM=CW308_STM32F3 -DF_CPU=7372800UL -DSS_VER_2_0=2 -DSS_VER_2_1=3 -DSS_VER_1_1=1 -DSS_VER_1_0=0 -Os -funsigned-char -funsigned-bitfields -fshort-enums -Wall -Wstrict-prototypes -Wa,-adhlns=objdir-CW308_STM32F3/permutations.lst -IImplementations/crypto_aead/ascon128v12/protected_bi32_armv6 -I.././simpleserial/ -I.././hal -I.././hal/stm32f3 -I.././hal/stm32f3/CMSIS -I.././hal/stm32f3/CMSIS/core -I.././hal/stm32f3/CMSIS/device -I.././hal/stm32f4/Legacy -I.././crypto/ -std=gnu99  -MMD -MP -MF .dep/permutations.o.d Implementations/crypto_aead/ascon128v12/protected_bi32_armv6/permutations.c -o objdir-CW308_STM32F3/Implementations/crypto_aead/ascon128v12/protected_bi32_armv6/permutations.o\n",
      ".\n",
      "Compiling C: Implementations/crypto_aead/ascon128v12/protected_bi32_armv6/printstate.c\n",
      "arm-none-eabi-gcc -c -mcpu=cortex-m4 -I. -DNUM_SHARES_KEY=2 -DNUM_SHARES_NPUB=2 -DNUM_SHARES_AD=2 -DNUM_SHARES_M=2 -DNUM_SHARES_C=2 -DASCON_ROR_SHARES=5 -DASCON_EXTERN_BI=0 -DASCON_PA_ROUNDS=12 -DASCON_PB_ROUNDS=6 -DSS_SHARED=1 -DDATA_LEN=190 -DRESP_LEN=96 -mthumb -mfloat-abi=soft -fmessage-length=0 -ffunction-sections -gdwarf-2 -DSS_VER=SS_VER_1_1 -DSTM32F303xC -DSTM32F3 -DSTM32 -DDEBUG -DHAL_TYPE=HAL_stm32f3 -DPLATFORM=CW308_STM32F3 -DF_CPU=7372800UL -DSS_VER_2_0=2 -DSS_VER_2_1=3 -DSS_VER_1_1=1 -DSS_VER_1_0=0 -Os -funsigned-char -funsigned-bitfields -fshort-enums -Wall -Wstrict-prototypes -Wa,-adhlns=objdir-CW308_STM32F3/printstate.lst -IImplementations/crypto_aead/ascon128v12/protected_bi32_armv6 -I.././simpleserial/ -I.././hal -I.././hal/stm32f3 -I.././hal/stm32f3/CMSIS -I.././hal/stm32f3/CMSIS/core -I.././hal/stm32f3/CMSIS/device -I.././hal/stm32f4/Legacy -I.././crypto/ -std=gnu99  -MMD -MP -MF .dep/printstate.o.d Implementations/crypto_aead/ascon128v12/protected_bi32_armv6/printstate.c -o objdir-CW308_STM32F3/Implementations/crypto_aead/ascon128v12/protected_bi32_armv6/printstate.o\n",
      ".\n",
      "Compiling C: Implementations/crypto_aead/ascon128v12/protected_bi32_armv6/shares.c\n",
      "arm-none-eabi-gcc -c -mcpu=cortex-m4 -I. -DNUM_SHARES_KEY=2 -DNUM_SHARES_NPUB=2 -DNUM_SHARES_AD=2 -DNUM_SHARES_M=2 -DNUM_SHARES_C=2 -DASCON_ROR_SHARES=5 -DASCON_EXTERN_BI=0 -DASCON_PA_ROUNDS=12 -DASCON_PB_ROUNDS=6 -DSS_SHARED=1 -DDATA_LEN=190 -DRESP_LEN=96 -mthumb -mfloat-abi=soft -fmessage-length=0 -ffunction-sections -gdwarf-2 -DSS_VER=SS_VER_1_1 -DSTM32F303xC -DSTM32F3 -DSTM32 -DDEBUG -DHAL_TYPE=HAL_stm32f3 -DPLATFORM=CW308_STM32F3 -DF_CPU=7372800UL -DSS_VER_2_0=2 -DSS_VER_2_1=3 -DSS_VER_1_1=1 -DSS_VER_1_0=0 -Os -funsigned-char -funsigned-bitfields -fshort-enums -Wall -Wstrict-prototypes -Wa,-adhlns=objdir-CW308_STM32F3/shares.lst -IImplementations/crypto_aead/ascon128v12/protected_bi32_armv6 -I.././simpleserial/ -I.././hal -I.././hal/stm32f3 -I.././hal/stm32f3/CMSIS -I.././hal/stm32f3/CMSIS/core -I.././hal/stm32f3/CMSIS/device -I.././hal/stm32f4/Legacy -I.././crypto/ -std=gnu99  -MMD -MP -MF .dep/shares.o.d Implementations/crypto_aead/ascon128v12/protected_bi32_armv6/shares.c -o objdir-CW308_STM32F3/Implementations/crypto_aead/ascon128v12/protected_bi32_armv6/shares.o\n",
      ".\n",
      "Compiling C: .././simpleserial/simpleserial.c\n",
      "arm-none-eabi-gcc -c -mcpu=cortex-m4 -I. -DNUM_SHARES_KEY=2 -DNUM_SHARES_NPUB=2 -DNUM_SHARES_AD=2 -DNUM_SHARES_M=2 -DNUM_SHARES_C=2 -DASCON_ROR_SHARES=5 -DASCON_EXTERN_BI=0 -DASCON_PA_ROUNDS=12 -DASCON_PB_ROUNDS=6 -DSS_SHARED=1 -DDATA_LEN=190 -DRESP_LEN=96 -mthumb -mfloat-abi=soft -fmessage-length=0 -ffunction-sections -gdwarf-2 -DSS_VER=SS_VER_1_1 -DSTM32F303xC -DSTM32F3 -DSTM32 -DDEBUG -DHAL_TYPE=HAL_stm32f3 -DPLATFORM=CW308_STM32F3 -DF_CPU=7372800UL -DSS_VER_2_0=2 -DSS_VER_2_1=3 -DSS_VER_1_1=1 -DSS_VER_1_0=0 -Os -funsigned-char -funsigned-bitfields -fshort-enums -Wall -Wstrict-prototypes -Wa,-adhlns=objdir-CW308_STM32F3/simpleserial.lst -IImplementations/crypto_aead/ascon128v12/protected_bi32_armv6 -I.././simpleserial/ -I.././hal -I.././hal/stm32f3 -I.././hal/stm32f3/CMSIS -I.././hal/stm32f3/CMSIS/core -I.././hal/stm32f3/CMSIS/device -I.././hal/stm32f4/Legacy -I.././crypto/ -std=gnu99  -MMD -MP -MF .dep/simpleserial.o.d .././simpleserial/simpleserial.c -o objdir-CW308_STM32F3/simpleserial.o\n",
      ".\n",
      "Compiling C: .././hal/stm32f3/stm32f3_hal.c\n",
      "arm-none-eabi-gcc -c -mcpu=cortex-m4 -I. -DNUM_SHARES_KEY=2 -DNUM_SHARES_NPUB=2 -DNUM_SHARES_AD=2 -DNUM_SHARES_M=2 -DNUM_SHARES_C=2 -DASCON_ROR_SHARES=5 -DASCON_EXTERN_BI=0 -DASCON_PA_ROUNDS=12 -DASCON_PB_ROUNDS=6 -DSS_SHARED=1 -DDATA_LEN=190 -DRESP_LEN=96 -mthumb -mfloat-abi=soft -fmessage-length=0 -ffunction-sections -gdwarf-2 -DSS_VER=SS_VER_1_1 -DSTM32F303xC -DSTM32F3 -DSTM32 -DDEBUG -DHAL_TYPE=HAL_stm32f3 -DPLATFORM=CW308_STM32F3 -DF_CPU=7372800UL -DSS_VER_2_0=2 -DSS_VER_2_1=3 -DSS_VER_1_1=1 -DSS_VER_1_0=0 -Os -funsigned-char -funsigned-bitfields -fshort-enums -Wall -Wstrict-prototypes -Wa,-adhlns=objdir-CW308_STM32F3/stm32f3_hal.lst -IImplementations/crypto_aead/ascon128v12/protected_bi32_armv6 -I.././simpleserial/ -I.././hal -I.././hal/stm32f3 -I.././hal/stm32f3/CMSIS -I.././hal/stm32f3/CMSIS/core -I.././hal/stm32f3/CMSIS/device -I.././hal/stm32f4/Legacy -I.././crypto/ -std=gnu99  -MMD -MP -MF .dep/stm32f3_hal.o.d .././hal/stm32f3/stm32f3_hal.c -o objdir-CW308_STM32F3/stm32f3_hal.o\n",
      ".\n",
      "Compiling C: .././hal/stm32f3/stm32f3_hal_lowlevel.c\n",
      "arm-none-eabi-gcc -c -mcpu=cortex-m4 -I. -DNUM_SHARES_KEY=2 -DNUM_SHARES_NPUB=2 -DNUM_SHARES_AD=2 -DNUM_SHARES_M=2 -DNUM_SHARES_C=2 -DASCON_ROR_SHARES=5 -DASCON_EXTERN_BI=0 -DASCON_PA_ROUNDS=12 -DASCON_PB_ROUNDS=6 -DSS_SHARED=1 -DDATA_LEN=190 -DRESP_LEN=96 -mthumb -mfloat-abi=soft -fmessage-length=0 -ffunction-sections -gdwarf-2 -DSS_VER=SS_VER_1_1 -DSTM32F303xC -DSTM32F3 -DSTM32 -DDEBUG -DHAL_TYPE=HAL_stm32f3 -DPLATFORM=CW308_STM32F3 -DF_CPU=7372800UL -DSS_VER_2_0=2 -DSS_VER_2_1=3 -DSS_VER_1_1=1 -DSS_VER_1_0=0 -Os -funsigned-char -funsigned-bitfields -fshort-enums -Wall -Wstrict-prototypes -Wa,-adhlns=objdir-CW308_STM32F3/stm32f3_hal_lowlevel.lst -IImplementations/crypto_aead/ascon128v12/protected_bi32_armv6 -I.././simpleserial/ -I.././hal -I.././hal/stm32f3 -I.././hal/stm32f3/CMSIS -I.././hal/stm32f3/CMSIS/core -I.././hal/stm32f3/CMSIS/device -I.././hal/stm32f4/Legacy -I.././crypto/ -std=gnu99  -MMD -MP -MF .dep/stm32f3_hal_lowlevel.o.d .././hal/stm32f3/stm32f3_hal_lowlevel.c -o objdir-CW308_STM32F3/stm32f3_hal_lowlevel.o\n",
      ".\n",
      "Compiling C: .././hal/stm32f3/stm32f3_sysmem.c\n",
      "arm-none-eabi-gcc -c -mcpu=cortex-m4 -I. -DNUM_SHARES_KEY=2 -DNUM_SHARES_NPUB=2 -DNUM_SHARES_AD=2 -DNUM_SHARES_M=2 -DNUM_SHARES_C=2 -DASCON_ROR_SHARES=5 -DASCON_EXTERN_BI=0 -DASCON_PA_ROUNDS=12 -DASCON_PB_ROUNDS=6 -DSS_SHARED=1 -DDATA_LEN=190 -DRESP_LEN=96 -mthumb -mfloat-abi=soft -fmessage-length=0 -ffunction-sections -gdwarf-2 -DSS_VER=SS_VER_1_1 -DSTM32F303xC -DSTM32F3 -DSTM32 -DDEBUG -DHAL_TYPE=HAL_stm32f3 -DPLATFORM=CW308_STM32F3 -DF_CPU=7372800UL -DSS_VER_2_0=2 -DSS_VER_2_1=3 -DSS_VER_1_1=1 -DSS_VER_1_0=0 -Os -funsigned-char -funsigned-bitfields -fshort-enums -Wall -Wstrict-prototypes -Wa,-adhlns=objdir-CW308_STM32F3/stm32f3_sysmem.lst -IImplementations/crypto_aead/ascon128v12/protected_bi32_armv6 -I.././simpleserial/ -I.././hal -I.././hal/stm32f3 -I.././hal/stm32f3/CMSIS -I.././hal/stm32f3/CMSIS/core -I.././hal/stm32f3/CMSIS/device -I.././hal/stm32f4/Legacy -I.././crypto/ -std=gnu99  -MMD -MP -MF .dep/stm32f3_sysmem.o.d .././hal/stm32f3/stm32f3_sysmem.c -o objdir-CW308_STM32F3/stm32f3_sysmem.o\n",
      ".\n",
      "Assembling: .././hal/stm32f3/stm32f3_startup.S\n",
      "arm-none-eabi-gcc -c -mcpu=cortex-m4 -I. -x assembler-with-cpp -mthumb -mfloat-abi=soft -fmessage-length=0 -ffunction-sections -DF_CPU=7372800 -Wa,-gstabs,-adhlns=objdir-CW308_STM32F3/stm32f3_startup.lst -IImplementations/crypto_aead/ascon128v12/protected_bi32_armv6 -I.././simpleserial/ -I.././hal -I.././hal/stm32f3 -I.././hal/stm32f3/CMSIS -I.././hal/stm32f3/CMSIS/core -I.././hal/stm32f3/CMSIS/device -I.././hal/stm32f4/Legacy -I.././crypto/ .././hal/stm32f3/stm32f3_startup.S -o objdir-CW308_STM32F3/stm32f3_startup.o\n",
      ".\n",
      "Linking: simpleserial-ascon-CW308_STM32F3.elf\n",
      "arm-none-eabi-gcc -mcpu=cortex-m4 -I. -DNUM_SHARES_KEY=2 -DNUM_SHARES_NPUB=2 -DNUM_SHARES_AD=2 -DNUM_SHARES_M=2 -DNUM_SHARES_C=2 -DASCON_ROR_SHARES=5 -DASCON_EXTERN_BI=0 -DASCON_PA_ROUNDS=12 -DASCON_PB_ROUNDS=6 -DSS_SHARED=1 -DDATA_LEN=190 -DRESP_LEN=96 -mthumb -mfloat-abi=soft -fmessage-length=0 -ffunction-sections -gdwarf-2 -DSS_VER=SS_VER_1_1 -DSTM32F303xC -DSTM32F3 -DSTM32 -DDEBUG -DHAL_TYPE=HAL_stm32f3 -DPLATFORM=CW308_STM32F3 -DF_CPU=7372800UL -DSS_VER_2_0=2 -DSS_VER_2_1=3 -DSS_VER_1_1=1 -DSS_VER_1_0=0 -Os -funsigned-char -funsigned-bitfields -fshort-enums -Wall -Wstrict-prototypes -Wa,-adhlns=objdir-CW308_STM32F3/simpleserial-ascon.o -IImplementations/crypto_aead/ascon128v12/protected_bi32_armv6 -I.././simpleserial/ -I.././hal -I.././hal/stm32f3 -I.././hal/stm32f3/CMSIS -I.././hal/stm32f3/CMSIS/core -I.././hal/stm32f3/CMSIS/device -I.././hal/stm32f4/Legacy -I.././crypto/ -std=gnu99  -MMD -MP -MF .dep/simpleserial-ascon-CW308_STM32F3.elf.d objdir-CW308_STM32F3/simpleserial-ascon.o objdir-CW308_STM32F3/randombytes.o objdir-CW308_STM32F3/Implementations/crypto_aead/ascon128v12/protected_bi32_armv6/aead.o objdir-CW308_STM32F3/Implementations/crypto_aead/ascon128v12/protected_bi32_armv6/constants.o objdir-CW308_STM32F3/Implementations/crypto_aead/ascon128v12/protected_bi32_armv6/crypto_aead.o objdir-CW308_STM32F3/Implementations/crypto_aead/ascon128v12/protected_bi32_armv6/crypto_aead_shared.o objdir-CW308_STM32F3/Implementations/crypto_aead/ascon128v12/protected_bi32_armv6/interleave.o objdir-CW308_STM32F3/Implementations/crypto_aead/ascon128v12/protected_bi32_armv6/permutations.o objdir-CW308_STM32F3/Implementations/crypto_aead/ascon128v12/protected_bi32_armv6/printstate.o objdir-CW308_STM32F3/Implementations/crypto_aead/ascon128v12/protected_bi32_armv6/shares.o objdir-CW308_STM32F3/simpleserial.o objdir-CW308_STM32F3/stm32f3_hal.o objdir-CW308_STM32F3/stm32f3_hal_lowlevel.o objdir-CW308_STM32F3/stm32f3_sysmem.o objdir-CW308_STM32F3/stm32f3_startup.o --output simpleserial-ascon-CW308_STM32F3.elf --specs=nano.specs --specs=nosys.specs -T .././hal/stm32f3/LinkerScript.ld -Wl,--gc-sections -lm -Wl,-Map=simpleserial-ascon-CW308_STM32F3.map,--cref   -lm  \n",
      ".\n",
      "Creating load file for Flash: simpleserial-ascon-CW308_STM32F3.hex\n",
      "arm-none-eabi-objcopy -O ihex -R .eeprom -R .fuse -R .lock -R .signature simpleserial-ascon-CW308_STM32F3.elf simpleserial-ascon-CW308_STM32F3.hex\n",
      ".\n",
      "Creating load file for Flash: simpleserial-ascon-CW308_STM32F3.bin\n",
      "arm-none-eabi-objcopy -O binary -R .eeprom -R .fuse -R .lock -R .signature simpleserial-ascon-CW308_STM32F3.elf simpleserial-ascon-CW308_STM32F3.bin\n",
      ".\n",
      "Creating load file for EEPROM: simpleserial-ascon-CW308_STM32F3.eep\n",
      "arm-none-eabi-objcopy -j .eeprom --set-section-flags=.eeprom=\"alloc,load\" \\\n",
      "--change-section-lma .eeprom=0 --no-change-warnings -O ihex simpleserial-ascon-CW308_STM32F3.elf simpleserial-ascon-CW308_STM32F3.eep || exit 0\n",
      ".\n",
      "Creating Extended Listing: simpleserial-ascon-CW308_STM32F3.lss\n",
      "arm-none-eabi-objdump -h -S -z simpleserial-ascon-CW308_STM32F3.elf > simpleserial-ascon-CW308_STM32F3.lss\n",
      ".\n",
      "Creating Symbol Table: simpleserial-ascon-CW308_STM32F3.sym\n",
      "arm-none-eabi-nm -n simpleserial-ascon-CW308_STM32F3.elf > simpleserial-ascon-CW308_STM32F3.sym\n",
      "Size after:\n",
      "   text\t   data\t    bss\t    dec\t    hex\tfilename\n",
      "  19460\t    108\t   1608\t  21176\t   52b8\tsimpleserial-ascon-CW308_STM32F3.elf\n",
      "+--------------------------------------------------------\n",
      "+ Default target does full rebuild each time.\n",
      "+ Specify buildtarget == allquick == to avoid full rebuild\n",
      "+--------------------------------------------------------\n",
      "+--------------------------------------------------------\n",
      "+ Built for platform CW308T: STM32F3 Target with:\n",
      "+ CRYPTO_TARGET = NONE\n",
      "+ CRYPTO_OPTIONS = \n",
      "+--------------------------------------------------------\n",
      "make[1]: Leaving directory '/home/asteroid/chipwhisperer/hardware/victims/firmware/simpleserial-ascon'\n"
     ]
    }
   ],
   "source": [
    "%%bash -s \"$SS_VER\" \"$PLATFORM\" \"$CRYPTO_TARGET\" \"$CRYPTO_PATH\" \"$EXTRA_OPTS\"\n",
    "PATH_TO_YOUR_CHIPWHISPERER_FOLDER=`pwd`\n",
    "export notebook_dir=$PWD\n",
    "mkdir $PATH_TO_YOUR_CHIPWHISPERER_FOLDER/hardware/victims/firmware/simpleserial-ascon\n",
    "cp -r simpleserial-ascon $PATH_TO_YOUR_CHIPWHISPERER_FOLDER/hardware/victims/firmware/\n",
    "cd $PATH_TO_YOUR_CHIPWHISPERER_FOLDER/hardware/victims/firmware/simpleserial-ascon\n",
    "rm -rf objdir-$2/Implementations/$4 objdir/Implementations/$4 objdir .dep\n",
    "mkdir -p objdir-$2/Implementations/$4 objdir/Implementations/$4\n",
    "make SS_VER=$1 PLATFORM=$2 CRYPTO_TARGET=$3 CRYPTO_PATH=$4 EXTRA_OPTS=\"$5\"\n",
    "cp simpleserial-ascon-$2.hex $notebook_dir/simpleserial-ascon-$2.hex"
   ]
  },
  {
   "attachments": {},
   "cell_type": "markdown",
   "metadata": {},
   "source": [
    "## Flash Binary on the Victim Board\n",
    "\n",
    "**Note:** If you use a STM32F target board of Revision-02 then you first need to set a specific jumper cable on the UFO board for the following code to work.\n",
    "\n",
    "For more information have a look here: https://rtfm.newae.com/Targets/UFO%20Targets/CW308T-STM32F/"
   ]
  },
  {
   "cell_type": "code",
   "execution_count": null,
   "metadata": {},
   "outputs": [],
   "source": [
    "HEXFILE = \"simpleserial-ascon-\" + PLATFORM + \".hex\"\n",
    "cw.program_target(scope, prog, HEXFILE)"
   ]
  },
  {
   "attachments": {},
   "cell_type": "markdown",
   "metadata": {},
   "source": [
    "## Interface Constants"
   ]
  },
  {
   "cell_type": "code",
   "execution_count": 5,
   "metadata": {},
   "outputs": [],
   "source": [
    "import numpy as np\n",
    "import random\n",
    "\n",
    "# Command\n",
    "CMD_ASCON = 'a'\n",
    "CMD_ECHO_TEST = 'e'\n",
    "\n",
    "# Flags\n",
    "M = 0x01              # data contains message \n",
    "C = 0x02              # data contains ciphertext\n",
    "A = 0x04              # data contains associated data\n",
    "N = 0x08              # data contains nonce\n",
    "K = 0x10              # data contains key\n",
    "RUN_ENC = 0x20        # run enc after data transmission\n",
    "RUN_DEC = 0x40        # run dec after data transmission\n",
    "OMIT_RESULT = 0x80    # omit returning result after encryption/decryption"
   ]
  },
  {
   "attachments": {},
   "cell_type": "markdown",
   "metadata": {},
   "source": [
    "## Interface Functions"
   ]
  },
  {
   "cell_type": "code",
   "execution_count": 7,
   "metadata": {},
   "outputs": [],
   "source": [
    "import sys\n",
    "sys.path.insert(0,\"../helpers\")\n",
    "from ascon_helper import cw_generate_shares as generate_shares\n",
    "from ascon_helper import cw_combine_shares as combine_shares\n",
    "from ascon_helper import size_shares"
   ]
  },
  {
   "attachments": {},
   "cell_type": "markdown",
   "metadata": {},
   "source": [
    "## Test one encryption"
   ]
  },
  {
   "cell_type": "code",
   "execution_count": null,
   "metadata": {},
   "outputs": [],
   "source": [
    "# Define input data\n",
    "m = bytearray.fromhex('00010203')\n",
    "a = bytearray.fromhex('00010203')\n",
    "n = bytearray.fromhex('000102030405060708090a0b0c0d0e0f')\n",
    "k = bytearray.fromhex('000102030405060708090a0b0c0d0e0f')\n",
    "\n",
    "scope.clock.adc_src = 'clkgen_x4'\n",
    "scope.gain.db = 28\n",
    "\n",
    "data = bytearray([N|K|M|A|RUN_ENC])\n",
    "data += bytearray([len(m)]) + generate_shares(m, NUM_SHARES_M)\n",
    "data += bytearray([len(a)]) + generate_shares(a, NUM_SHARES_AD)\n",
    "data += generate_shares(n, NUM_SHARES_NPUB)\n",
    "data += generate_shares(k, NUM_SHARES_KEY)\n",
    "data += bytearray.fromhex('00'*(DATA_LEN-len(data)))\n",
    "target.flush()\n",
    "print('d: ' + ''.join('{:02x}'.format(x) for x in data))\n",
    "scope.arm()\n",
    "target.simpleserial_write(CMD_ASCON,data)\n",
    "scope.capture()\n",
    "response = target.simpleserial_read('r', RESP_LEN, end='\\n', timeout=250, ack=True)\n",
    "\n",
    "# Extract and print response\n",
    "mlen = size_shares(len(m), NUM_SHARES_C)\n",
    "c = combine_shares(response[0:mlen], NUM_SHARES_C)\n",
    "t = combine_shares(response[mlen:mlen + 16*NUM_SHARES_C], NUM_SHARES_C)\n",
    "print('c: ' + ''.join('{:02x}'.format(x) for x in c[:len(m)]))\n",
    "print('t: ' + ''.join('{:02x}'.format(x) for x in t))\n",
    "\n",
    "scope.adc.samples = scope.adc.trig_count"
   ]
  },
  {
   "cell_type": "markdown",
   "metadata": {},
   "source": [
    "## Set parameters for trace collection"
   ]
  },
  {
   "cell_type": "code",
   "execution_count": 8,
   "metadata": {},
   "outputs": [],
   "source": [
    "PTlen = 4\n",
    "CTlen = PTlen\n",
    "TAGlen = 16\n",
    "ADlen = 4\n",
    "Nlen = 16\n",
    "Klen = 16\n",
    "\n",
    "# Set fixed parameters\n",
    "fixed_key       = bytearray(np.random.randint(0,256,Klen, dtype=np.uint8))\n",
    "fixed_nonce     = bytearray(np.random.randint(0,256,Nlen, dtype=np.uint8))\n",
    "fixed_ad        = bytearray(np.random.randint(0,256,ADlen, dtype=np.uint8))\n",
    "fixed_message   = bytearray(np.random.randint(0,256,PTlen, dtype=np.uint8))"
   ]
  },
  {
   "cell_type": "code",
   "execution_count": null,
   "metadata": {},
   "outputs": [],
   "source": [
    "import trsfile\n",
    "import sys\n",
    "import matplotlib.pyplot as plt\n",
    "from tqdm import tqdm\n",
    "import os\n",
    "\n",
    "# Path to your .trs file\n",
    "file_path = \"ascon_cw_protected.trs\"\n",
    "# Open the .trs file\n",
    "with trsfile.TraceSet(file_path, mode='r') as trs:\n",
    "    keys = []\n",
    "    nonces = []\n",
    "    messages = []\n",
    "    ads = []\n",
    "\n",
    "    # Iterate through all traces\n",
    "    for trace in tqdm(trs):\n",
    "        keys+=[bytearray(np.array(trace.parameters[\"key\"].value,dtype=np.uint8))]\n",
    "        nonces+=[bytearray(np.array(trace.parameters[\"nonce\"].value,dtype=np.uint8))]\n",
    "        messages+=[bytearray(np.array(trace.parameters[\"plaintext\"].value,dtype=np.uint8))]\n",
    "        ads+=[bytearray(np.array(trace.parameters[\"associated_data\"].value,dtype=np.uint8))]\n",
    "\n"
   ]
  },
  {
   "cell_type": "code",
   "execution_count": null,
   "metadata": {},
   "outputs": [],
   "source": [
    "\n",
    "\n",
    "COMPRESS_SAMPLES = True\n",
    "\n",
    "#Set scope\n",
    "n_traces = 1000\n",
    "try:\n",
    "    samples_per_trace = scope.adc.samples\n",
    "except NameError:\n",
    "    samples_per_trace = 5712\n",
    "\n",
    "target.flush()\n",
    "print(scope.adc.samples)\n",
    "\n",
    "if COMPRESS_SAMPLES:\n",
    "    sample_coding = trsfile.SampleCoding.SHORT\n",
    "else:\n",
    "    sample_coding = trsfile.SampleCoding.FLOAT\n",
    "\n",
    "# Create tracefile\n",
    "current_time = time.strftime(\"%Y%m%d_%H%M%S\",time.localtime())\n",
    "traceFileName = \"traces/\" + \"ASCON_cw_P{}_generated\".format(n_shares) + \"{}_{}\".format(n_traces, current_time) + \".trs\"\n",
    "\n",
    "headers = {\n",
    "    trsfile.Header.TRS_VERSION:2,\n",
    "    trsfile.Header.DESCRIPTION:\"Ascon cw order {} masked traces\".format(n_shares),\n",
    "    trsfile.Header.NUMBER_SAMPLES:int(samples_per_trace),\n",
    "    trsfile.Header.LENGTH_DATA:size_shares(Klen,n_shares)+size_shares(Nlen,n_shares)+size_shares(PTlen,n_shares)+size_shares(ADlen,n_shares)+size_shares(CTlen,n_shares)+size_shares(TAGlen,n_shares),\n",
    "    trsfile.Header.SAMPLE_CODING:sample_coding,\n",
    "    trsfile.Header.LABEL_X:\"s\",\n",
    "    trsfile.Header.LABEL_Y:\"V\",\n",
    "    trsfile.Header.TRACE_PARAMETER_DEFINITIONS:trsfile.parametermap.TraceParameterDefinitionMap(\n",
    "            {'key': trsfile.traceparameter.TraceParameterDefinition(trsfile.traceparameter.ParameterType.BYTE, size_shares(Klen,n_shares), 0),\n",
    "             'nonce': trsfile.traceparameter.TraceParameterDefinition(trsfile.traceparameter.ParameterType.BYTE, size_shares(Nlen,n_shares), size_shares(Klen,n_shares)),\n",
    "             'plaintext': trsfile.traceparameter.TraceParameterDefinition(trsfile.traceparameter.ParameterType.BYTE, size_shares(PTlen,n_shares), size_shares(Klen,n_shares)+size_shares(Nlen,n_shares)),\n",
    "             'associated_data': trsfile.traceparameter.TraceParameterDefinition(trsfile.traceparameter.ParameterType.BYTE, size_shares(ADlen,n_shares), size_shares(Klen,n_shares)+size_shares(Nlen,n_shares)+size_shares(PTlen,n_shares)),\n",
    "             'ciphertext': trsfile.traceparameter.TraceParameterDefinition(trsfile.traceparameter.ParameterType.BYTE, size_shares(CTlen,n_shares), size_shares(Klen,n_shares)+size_shares(Nlen,n_shares)+size_shares(PTlen,n_shares)+size_shares(ADlen,n_shares)),\n",
    "             'tag': trsfile.traceparameter.TraceParameterDefinition(trsfile.traceparameter.ParameterType.BYTE, size_shares(TAGlen,n_shares), size_shares(Klen,n_shares)+size_shares(Nlen,n_shares)+size_shares(PTlen,n_shares)+size_shares(ADlen,n_shares)+size_shares(CTlen,n_shares)),\n",
    "             }),\n",
    "}\n",
    "traceFile = trsfile.trs_open(traceFileName, mode='w', headers=headers)\n",
    "    \n",
    "# Main loop\n",
    "start_time = time.time()\n",
    "for numTotal in tqdm(range(n_traces),desc=\"collect traces\"):\n",
    "    try:\n",
    "        flags = M|A|N|K|RUN_ENC\n",
    "        data = bytearray([flags])\n",
    "        nonce = nonces[numTotal]\n",
    "        message = messages[numTotal]\n",
    "        ad = ads[numTotal]\n",
    "        key=keys[numTotal]\n",
    "        masked_plaintext = generate_shares(message, NUM_SHARES_M)\n",
    "        data += bytearray([len(message)]) + masked_plaintext\n",
    "        masked_ad = generate_shares(ad, NUM_SHARES_AD)\n",
    "        data += bytearray([len(ad)]) + masked_ad\n",
    "        masked_nonce = generate_shares(nonce, NUM_SHARES_NPUB)\n",
    "        data += masked_nonce\n",
    "        masked_key = generate_shares(key, NUM_SHARES_KEY)\n",
    "        data += masked_key\n",
    "        if len(data) > DATA_LEN:\n",
    "            print(len(data))\n",
    "        assert(len(data) <= DATA_LEN)\n",
    "        data += bytearray.fromhex('00'*(DATA_LEN-len(data)))\n",
    "        \n",
    "        # write data and collect trace\n",
    "        scope.arm()\n",
    "        target.simpleserial_write(CMD_ASCON,data)\n",
    "        scope.capture()\n",
    "        trace = scope.get_last_trace(as_int=COMPRESS_SAMPLES)\n",
    "\n",
    "        response = target.simpleserial_read('r', RESP_LEN, end='\\n', timeout=250, ack=True)\n",
    "\n",
    "        # Extract and print response\n",
    "        mlen = size_shares(len(message), NUM_SHARES_C)\n",
    "        masked_ct = response[0:mlen]\n",
    "        masked_tag = response[mlen:mlen + 16*NUM_SHARES_C]\n",
    "\n",
    "        if numTotal == 0:\n",
    "            if samples_per_trace != scope.adc.trig_count:\n",
    "                print(\"Number of collected samples is non optimal: \\n\\rCollected:{}\\n\\rTrigger:{}\".format(samples_per_trace ,scope.adc.trig_count))\n",
    "    \n",
    "        ## Write data and trace in .TRS file\n",
    "        traceFile.append(trsfile.Trace(sample_coding,\n",
    "                                        trace,\n",
    "                                        trsfile.parametermap.TraceParameterMap({'key': trsfile.parametermap.ByteArrayParameter(masked_key),\n",
    "                                                                            'nonce': trsfile.parametermap.ByteArrayParameter(masked_nonce),\n",
    "                                                                            'plaintext': trsfile.parametermap.ByteArrayParameter(masked_plaintext),\n",
    "                                                                            'ad': trsfile.parametermap.ByteArrayParameter(masked_ad),\n",
    "                                                                            'ct': trsfile.parametermap.ByteArrayParameter(masked_ct),\n",
    "                                                                            'tag': trsfile.parametermap.ByteArrayParameter(masked_tag),\n",
    "                                                                            })\n",
    "                                ))\n",
    "\n",
    "    except Exception as ex:\n",
    "        print(\"ERROR: \", ex)\n",
    "        sys.exit(-1)\n",
    "\n",
    "traceFile.close()\n",
    "\n",
    "print(\"Done: \" + str(numTotal))\n",
    "print(\"Total time: \" + str(time.time() - start_time))"
   ]
  },
  {
   "attachments": {},
   "cell_type": "markdown",
   "metadata": {},
   "source": [
    "## Disconnect from Board"
   ]
  },
  {
   "cell_type": "code",
   "execution_count": null,
   "metadata": {},
   "outputs": [],
   "source": [
    "scope.dis()\n",
    "target.dis()"
   ]
  }
 ],
 "metadata": {
  "kernelspec": {
   "display_name": "Python 3 (ipykernel)",
   "language": "python",
   "name": "python3"
  },
  "vscode": {
   "interpreter": {
    "hash": "d8280fdd5565f216e4346312f203738ddcc80b67974cd3939fc80f87018acc53"
   }
  }
 },
 "nbformat": 4,
 "nbformat_minor": 2
}
